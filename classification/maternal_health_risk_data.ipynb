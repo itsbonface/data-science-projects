{
 "cells": [
  {
   "cell_type": "code",
   "execution_count": 1,
   "id": "0f257580-bc8c-45dc-b432-62b2636dffaa",
   "metadata": {},
   "outputs": [],
   "source": [
    "#Importing libraries \n",
    "import pandas as pd\n",
    "import numpy as np\n",
    "import matplotlib.pyplot as plt\n",
    "import seaborn as sns\n",
    "\n",
    "%matplotlib inline"
   ]
  },
  {
   "cell_type": "code",
   "execution_count": 2,
   "id": "3f32f7d1-0590-4419-9a5f-27cf24bd13c2",
   "metadata": {},
   "outputs": [],
   "source": [
    "#Importing dataset\n",
    "risk_data = pd.read_csv(\"maternal_health_risk_dataset.csv\")"
   ]
  },
  {
   "cell_type": "code",
   "execution_count": 3,
   "id": "9583536e-a2f9-408c-9a90-29739c90c3e8",
   "metadata": {},
   "outputs": [
    {
     "data": {
      "text/html": [
       "<div>\n",
       "<style scoped>\n",
       "    .dataframe tbody tr th:only-of-type {\n",
       "        vertical-align: middle;\n",
       "    }\n",
       "\n",
       "    .dataframe tbody tr th {\n",
       "        vertical-align: top;\n",
       "    }\n",
       "\n",
       "    .dataframe thead th {\n",
       "        text-align: right;\n",
       "    }\n",
       "</style>\n",
       "<table border=\"1\" class=\"dataframe\">\n",
       "  <thead>\n",
       "    <tr style=\"text-align: right;\">\n",
       "      <th></th>\n",
       "      <th>Age</th>\n",
       "      <th>SystolicBP</th>\n",
       "      <th>DiastolicBP</th>\n",
       "      <th>BS</th>\n",
       "      <th>BodyTemp</th>\n",
       "      <th>HeartRate</th>\n",
       "      <th>RiskLevel</th>\n",
       "    </tr>\n",
       "  </thead>\n",
       "  <tbody>\n",
       "    <tr>\n",
       "      <th>0</th>\n",
       "      <td>25</td>\n",
       "      <td>130</td>\n",
       "      <td>80</td>\n",
       "      <td>15.0</td>\n",
       "      <td>98.0</td>\n",
       "      <td>86</td>\n",
       "      <td>high risk</td>\n",
       "    </tr>\n",
       "    <tr>\n",
       "      <th>1</th>\n",
       "      <td>35</td>\n",
       "      <td>140</td>\n",
       "      <td>90</td>\n",
       "      <td>13.0</td>\n",
       "      <td>98.0</td>\n",
       "      <td>70</td>\n",
       "      <td>high risk</td>\n",
       "    </tr>\n",
       "    <tr>\n",
       "      <th>2</th>\n",
       "      <td>29</td>\n",
       "      <td>90</td>\n",
       "      <td>70</td>\n",
       "      <td>8.0</td>\n",
       "      <td>100.0</td>\n",
       "      <td>80</td>\n",
       "      <td>high risk</td>\n",
       "    </tr>\n",
       "    <tr>\n",
       "      <th>3</th>\n",
       "      <td>30</td>\n",
       "      <td>140</td>\n",
       "      <td>85</td>\n",
       "      <td>7.0</td>\n",
       "      <td>98.0</td>\n",
       "      <td>70</td>\n",
       "      <td>high risk</td>\n",
       "    </tr>\n",
       "    <tr>\n",
       "      <th>4</th>\n",
       "      <td>35</td>\n",
       "      <td>120</td>\n",
       "      <td>60</td>\n",
       "      <td>6.1</td>\n",
       "      <td>98.0</td>\n",
       "      <td>76</td>\n",
       "      <td>low risk</td>\n",
       "    </tr>\n",
       "  </tbody>\n",
       "</table>\n",
       "</div>"
      ],
      "text/plain": [
       "   Age  SystolicBP  DiastolicBP    BS  BodyTemp  HeartRate  RiskLevel\n",
       "0   25         130           80  15.0      98.0         86  high risk\n",
       "1   35         140           90  13.0      98.0         70  high risk\n",
       "2   29          90           70   8.0     100.0         80  high risk\n",
       "3   30         140           85   7.0      98.0         70  high risk\n",
       "4   35         120           60   6.1      98.0         76   low risk"
      ]
     },
     "execution_count": 3,
     "metadata": {},
     "output_type": "execute_result"
    }
   ],
   "source": [
    "risk_data.head()"
   ]
  },
  {
   "cell_type": "code",
   "execution_count": 4,
   "id": "170fd537-2190-4eda-b6c0-94ee5017ead4",
   "metadata": {},
   "outputs": [
    {
     "name": "stdout",
     "output_type": "stream",
     "text": [
      "<class 'pandas.core.frame.DataFrame'>\n",
      "RangeIndex: 1014 entries, 0 to 1013\n",
      "Data columns (total 7 columns):\n",
      " #   Column       Non-Null Count  Dtype  \n",
      "---  ------       --------------  -----  \n",
      " 0   Age          1014 non-null   int64  \n",
      " 1   SystolicBP   1014 non-null   int64  \n",
      " 2   DiastolicBP  1014 non-null   int64  \n",
      " 3   BS           1014 non-null   float64\n",
      " 4   BodyTemp     1014 non-null   float64\n",
      " 5   HeartRate    1014 non-null   int64  \n",
      " 6   RiskLevel    1014 non-null   object \n",
      "dtypes: float64(2), int64(4), object(1)\n",
      "memory usage: 55.6+ KB\n"
     ]
    }
   ],
   "source": [
    "risk_data.info()"
   ]
  },
  {
   "cell_type": "code",
   "execution_count": 5,
   "id": "b5e0b208-67b5-4f8c-9e37-118b568abfb8",
   "metadata": {},
   "outputs": [
    {
     "data": {
      "text/html": [
       "<div>\n",
       "<style scoped>\n",
       "    .dataframe tbody tr th:only-of-type {\n",
       "        vertical-align: middle;\n",
       "    }\n",
       "\n",
       "    .dataframe tbody tr th {\n",
       "        vertical-align: top;\n",
       "    }\n",
       "\n",
       "    .dataframe thead th {\n",
       "        text-align: right;\n",
       "    }\n",
       "</style>\n",
       "<table border=\"1\" class=\"dataframe\">\n",
       "  <thead>\n",
       "    <tr style=\"text-align: right;\">\n",
       "      <th></th>\n",
       "      <th>Age</th>\n",
       "      <th>SystolicBP</th>\n",
       "      <th>DiastolicBP</th>\n",
       "      <th>BS</th>\n",
       "      <th>BodyTemp</th>\n",
       "      <th>HeartRate</th>\n",
       "    </tr>\n",
       "  </thead>\n",
       "  <tbody>\n",
       "    <tr>\n",
       "      <th>count</th>\n",
       "      <td>1014.000000</td>\n",
       "      <td>1014.000000</td>\n",
       "      <td>1014.000000</td>\n",
       "      <td>1014.000000</td>\n",
       "      <td>1014.000000</td>\n",
       "      <td>1014.000000</td>\n",
       "    </tr>\n",
       "    <tr>\n",
       "      <th>mean</th>\n",
       "      <td>29.871795</td>\n",
       "      <td>113.198225</td>\n",
       "      <td>76.460552</td>\n",
       "      <td>8.725986</td>\n",
       "      <td>98.665089</td>\n",
       "      <td>74.301775</td>\n",
       "    </tr>\n",
       "    <tr>\n",
       "      <th>std</th>\n",
       "      <td>13.474386</td>\n",
       "      <td>18.403913</td>\n",
       "      <td>13.885796</td>\n",
       "      <td>3.293532</td>\n",
       "      <td>1.371384</td>\n",
       "      <td>8.088702</td>\n",
       "    </tr>\n",
       "    <tr>\n",
       "      <th>min</th>\n",
       "      <td>10.000000</td>\n",
       "      <td>70.000000</td>\n",
       "      <td>49.000000</td>\n",
       "      <td>6.000000</td>\n",
       "      <td>98.000000</td>\n",
       "      <td>7.000000</td>\n",
       "    </tr>\n",
       "    <tr>\n",
       "      <th>25%</th>\n",
       "      <td>19.000000</td>\n",
       "      <td>100.000000</td>\n",
       "      <td>65.000000</td>\n",
       "      <td>6.900000</td>\n",
       "      <td>98.000000</td>\n",
       "      <td>70.000000</td>\n",
       "    </tr>\n",
       "    <tr>\n",
       "      <th>50%</th>\n",
       "      <td>26.000000</td>\n",
       "      <td>120.000000</td>\n",
       "      <td>80.000000</td>\n",
       "      <td>7.500000</td>\n",
       "      <td>98.000000</td>\n",
       "      <td>76.000000</td>\n",
       "    </tr>\n",
       "    <tr>\n",
       "      <th>75%</th>\n",
       "      <td>39.000000</td>\n",
       "      <td>120.000000</td>\n",
       "      <td>90.000000</td>\n",
       "      <td>8.000000</td>\n",
       "      <td>98.000000</td>\n",
       "      <td>80.000000</td>\n",
       "    </tr>\n",
       "    <tr>\n",
       "      <th>max</th>\n",
       "      <td>70.000000</td>\n",
       "      <td>160.000000</td>\n",
       "      <td>100.000000</td>\n",
       "      <td>19.000000</td>\n",
       "      <td>103.000000</td>\n",
       "      <td>90.000000</td>\n",
       "    </tr>\n",
       "  </tbody>\n",
       "</table>\n",
       "</div>"
      ],
      "text/plain": [
       "               Age   SystolicBP  DiastolicBP           BS     BodyTemp  \\\n",
       "count  1014.000000  1014.000000  1014.000000  1014.000000  1014.000000   \n",
       "mean     29.871795   113.198225    76.460552     8.725986    98.665089   \n",
       "std      13.474386    18.403913    13.885796     3.293532     1.371384   \n",
       "min      10.000000    70.000000    49.000000     6.000000    98.000000   \n",
       "25%      19.000000   100.000000    65.000000     6.900000    98.000000   \n",
       "50%      26.000000   120.000000    80.000000     7.500000    98.000000   \n",
       "75%      39.000000   120.000000    90.000000     8.000000    98.000000   \n",
       "max      70.000000   160.000000   100.000000    19.000000   103.000000   \n",
       "\n",
       "         HeartRate  \n",
       "count  1014.000000  \n",
       "mean     74.301775  \n",
       "std       8.088702  \n",
       "min       7.000000  \n",
       "25%      70.000000  \n",
       "50%      76.000000  \n",
       "75%      80.000000  \n",
       "max      90.000000  "
      ]
     },
     "execution_count": 5,
     "metadata": {},
     "output_type": "execute_result"
    }
   ],
   "source": [
    "risk_data.describe()"
   ]
  },
  {
   "cell_type": "code",
   "execution_count": 6,
   "id": "901a0af9-2217-4ecc-ba8a-2687d9f1e792",
   "metadata": {},
   "outputs": [
    {
     "name": "stdout",
     "output_type": "stream",
     "text": [
      "Age            0\n",
      "SystolicBP     0\n",
      "DiastolicBP    0\n",
      "BS             0\n",
      "BodyTemp       0\n",
      "HeartRate      0\n",
      "RiskLevel      0\n",
      "dtype: int64\n"
     ]
    }
   ],
   "source": [
    "# Check for missing values\n",
    "print(risk_data.isnull().sum())"
   ]
  },
  {
   "cell_type": "code",
   "execution_count": 7,
   "id": "718503d7-33b6-4ac2-8adc-2e1781f47e8f",
   "metadata": {},
   "outputs": [
    {
     "data": {
      "text/html": [
       "<div>\n",
       "<style scoped>\n",
       "    .dataframe tbody tr th:only-of-type {\n",
       "        vertical-align: middle;\n",
       "    }\n",
       "\n",
       "    .dataframe tbody tr th {\n",
       "        vertical-align: top;\n",
       "    }\n",
       "\n",
       "    .dataframe thead th {\n",
       "        text-align: right;\n",
       "    }\n",
       "</style>\n",
       "<table border=\"1\" class=\"dataframe\">\n",
       "  <thead>\n",
       "    <tr style=\"text-align: right;\">\n",
       "      <th></th>\n",
       "      <th>Age</th>\n",
       "      <th>SystolicBP</th>\n",
       "      <th>DiastolicBP</th>\n",
       "      <th>BS</th>\n",
       "      <th>BodyTemp</th>\n",
       "      <th>HeartRate</th>\n",
       "      <th>RiskLevel</th>\n",
       "    </tr>\n",
       "  </thead>\n",
       "  <tbody>\n",
       "    <tr>\n",
       "      <th>0</th>\n",
       "      <td>25</td>\n",
       "      <td>130</td>\n",
       "      <td>80</td>\n",
       "      <td>15.0</td>\n",
       "      <td>36.67</td>\n",
       "      <td>86</td>\n",
       "      <td>high risk</td>\n",
       "    </tr>\n",
       "    <tr>\n",
       "      <th>1</th>\n",
       "      <td>35</td>\n",
       "      <td>140</td>\n",
       "      <td>90</td>\n",
       "      <td>13.0</td>\n",
       "      <td>36.67</td>\n",
       "      <td>70</td>\n",
       "      <td>high risk</td>\n",
       "    </tr>\n",
       "    <tr>\n",
       "      <th>2</th>\n",
       "      <td>29</td>\n",
       "      <td>90</td>\n",
       "      <td>70</td>\n",
       "      <td>8.0</td>\n",
       "      <td>37.78</td>\n",
       "      <td>80</td>\n",
       "      <td>high risk</td>\n",
       "    </tr>\n",
       "    <tr>\n",
       "      <th>3</th>\n",
       "      <td>30</td>\n",
       "      <td>140</td>\n",
       "      <td>85</td>\n",
       "      <td>7.0</td>\n",
       "      <td>36.67</td>\n",
       "      <td>70</td>\n",
       "      <td>high risk</td>\n",
       "    </tr>\n",
       "    <tr>\n",
       "      <th>4</th>\n",
       "      <td>35</td>\n",
       "      <td>120</td>\n",
       "      <td>60</td>\n",
       "      <td>6.1</td>\n",
       "      <td>36.67</td>\n",
       "      <td>76</td>\n",
       "      <td>low risk</td>\n",
       "    </tr>\n",
       "  </tbody>\n",
       "</table>\n",
       "</div>"
      ],
      "text/plain": [
       "   Age  SystolicBP  DiastolicBP    BS  BodyTemp  HeartRate  RiskLevel\n",
       "0   25         130           80  15.0     36.67         86  high risk\n",
       "1   35         140           90  13.0     36.67         70  high risk\n",
       "2   29          90           70   8.0     37.78         80  high risk\n",
       "3   30         140           85   7.0     36.67         70  high risk\n",
       "4   35         120           60   6.1     36.67         76   low risk"
      ]
     },
     "execution_count": 7,
     "metadata": {},
     "output_type": "execute_result"
    }
   ],
   "source": [
    "# Converting the 'BodyTemp' column from Kelvins to celcius unit\n",
    "risk_data['BodyTemp'] = risk_data['BodyTemp'].apply(lambda x: round((x-32) * (5/9), 2))\n",
    "risk_data.head()"
   ]
  },
  {
   "cell_type": "markdown",
   "id": "8cca2c9d-8c5d-42d5-8dfd-1f4f7abd480b",
   "metadata": {},
   "source": [
    "Data Preparation for Classification"
   ]
  },
  {
   "cell_type": "code",
   "execution_count": 8,
   "id": "593e43cf-eeb7-400d-9527-64c8fda5b06b",
   "metadata": {},
   "outputs": [],
   "source": [
    "from sklearn.model_selection import train_test_split\n",
    "\n",
    "train, test = train_test_split(risk_data, test_size=0.20, random_state=125)"
   ]
  },
  {
   "cell_type": "code",
   "execution_count": 9,
   "id": "56a17add-2be5-4f78-9b62-988c8ece26bf",
   "metadata": {},
   "outputs": [
    {
     "name": "stdout",
     "output_type": "stream",
     "text": [
      "Training dataset: (811, 7)\n",
      "Test dataset: (203, 7)\n"
     ]
    }
   ],
   "source": [
    "print('Training dataset:', train.shape)\n",
    "print('Test dataset:', test.shape)"
   ]
  },
  {
   "cell_type": "code",
   "execution_count": 10,
   "id": "6ec91256-f9ac-47d7-8d82-b42e80f6bf51",
   "metadata": {},
   "outputs": [
    {
     "data": {
      "image/png": "[encoded data removed]",
      "text/plain": [
       "<Figure size 1500x500 with 2 Axes>"
      ]
     },
     "metadata": {},
     "output_type": "display_data"
    }
   ],
   "source": [
    "# Visualization\n",
    "risk = train['RiskLevel'].value_counts(). sort_values()\n",
    "\n",
    "figure, axes = plt.subplots(1, 2, figsize=(15,5), gridspec_kw={'width_ratios': [1.5, 1]})\n",
    "axes[0].barh(y=risk.index, width=risk.values, color=['lightgreen', 'skyblue', 'violet'])\n",
    "axes[0].set_xlabel('Frequency')\n",
    "axes[0].grid(alpha=0.4)\n",
    "\n",
    "for index, values in enumerate(risk):\n",
    "    axes[0].text(values+3, index, str(values), va='center')\n",
    "\n",
    "axes[1].pie(risk.values, labels=risk.index, colors=['lightgreen', 'skyblue', 'violet'],\n",
    "            autopct='%.2f%%', explode=[0.05, 0.05, 0.05]\n",
    "           )\n",
    "figure.suptitle('Distribution of classes in risk level', fontsize=15)\n",
    "plt.tight_layout()\n",
    "plt.show()"
   ]
  },
  {
   "cell_type": "code",
   "execution_count": 11,
   "id": "91619596-0b4c-487d-8696-57136b5be8b9",
   "metadata": {},
   "outputs": [
    {
     "name": "stdout",
     "output_type": "stream",
     "text": [
      "Xtrain:  (811, 6)\n",
      "ytrain:  (811,)\n",
      "Xtest:  (203, 6)\n",
      "ytest:  (203,)\n"
     ]
    }
   ],
   "source": [
    "# segregate the feature matrix and taget vector from the train and test datasets\n",
    "Xtrain = train.drop(columns=['RiskLevel'], axis=1)\n",
    "ytrain = train['RiskLevel']\n",
    "\n",
    "Xtest = test.drop(columns=['RiskLevel'], axis=1)\n",
    "ytest = test['RiskLevel']\n",
    "\n",
    "print('Xtrain: ', Xtrain.shape)\n",
    "print('ytrain: ', ytrain.shape)\n",
    "print('Xtest: ', Xtest.shape)\n",
    "print('ytest: ', ytest.shape)"
   ]
  },
  {
   "cell_type": "markdown",
   "id": "d6c8858c-1cc6-4878-923c-758909193559",
   "metadata": {},
   "source": [
    "Classification\n",
    "\n",
    "Method 1: Decision Tree"
   ]
  },
  {
   "cell_type": "code",
   "execution_count": 12,
   "id": "83c7e7ed-7494-4ccc-9aa1-69645a1cff17",
   "metadata": {},
   "outputs": [
    {
     "name": "stdout",
     "output_type": "stream",
     "text": [
      "Best Parameters:  {'criterion': 'entropy', 'max_depth': 30, 'min_samples_leaf': 2, 'min_samples_split': 2, 'splitter': 'best'}\n",
      "Best Accuracy:  0.7645080663485573\n"
     ]
    }
   ],
   "source": [
    "from sklearn.tree import DecisionTreeClassifier\n",
    "from sklearn.model_selection import GridSearchCV\n",
    "\n",
    "# create a decision tree classifier\n",
    "tree = DecisionTreeClassifier(random_state=125)\n",
    "\n",
    "# define the hyperparameter grid\n",
    "par_grid = {\n",
    "    'criterion': ['gini', 'entropy'],\n",
    "    'splitter': ['best', 'random'], \n",
    "    'max_depth': [10, 20, 30], \n",
    "    'min_samples_split': [2, 5, 10], \n",
    "    'min_samples_leaf': [2, 4]\n",
    "}\n",
    "\n",
    "# create the GridSearchCV object\n",
    "grid_search_tree = GridSearchCV(tree, par_grid, cv=5, scoring='accuracy', n_jobs=-1)\n",
    "\n",
    "# fit the grid search to the data\n",
    "grid_search_tree.fit(Xtrain, ytrain)\n",
    "\n",
    "# print the best parameters and the corresponding accuracy\n",
    "print('Best Parameters: ', grid_search_tree.best_params_)\n",
    "print('Best Accuracy: ', grid_search_tree.best_score_)\n"
   ]
  },
  {
   "cell_type": "code",
   "execution_count": 13,
   "id": "61761d3b-7b1b-4fae-b229-041938ae1e1b",
   "metadata": {},
   "outputs": [
    {
     "name": "stdout",
     "output_type": "stream",
     "text": [
      "Test Accuracy:  0.7635467980295566\n"
     ]
    }
   ],
   "source": [
    "# get the model\n",
    "best_tree = grid_search_tree.best_estimator_\n",
    "\n",
    "# evaluate the best model for the test set\n",
    "test_accuracy = best_tree.score(Xtest, ytest)\n",
    "\n",
    "print('Test Accuracy: ', test_accuracy)"
   ]
  },
  {
   "cell_type": "code",
   "execution_count": 14,
   "id": "bd5c742f-3256-4fc3-a020-62fc83e26a33",
   "metadata": {},
   "outputs": [
    {
     "data": {
      "image/png": "[encoded data removed]",
      "text/plain": [
       "<Figure size 640x480 with 2 Axes>"
      ]
     },
     "metadata": {},
     "output_type": "display_data"
    }
   ],
   "source": [
    "# visualization of the confusion matrix using a heatmap\n",
    "from sklearn.metrics import confusion_matrix\n",
    "\n",
    "ypred = best_tree.predict(Xtest)\n",
    "\n",
    "labels = ytest.unique()\n",
    "\n",
    "cm_tree = confusion_matrix(ytest, ypred, normalize='true')\n",
    "plt.figure()\n",
    "sns.heatmap(cm_tree, annot=True, cmap='BuPu', xticklabels=labels, yticklabels=labels)\n",
    "plt.show()"
   ]
  },
  {
   "cell_type": "code",
   "execution_count": 15,
   "id": "1e4071a1-7e58-4d51-bb3b-3979929bb3e5",
   "metadata": {},
   "outputs": [
    {
     "name": "stdout",
     "output_type": "stream",
     "text": [
      "              precision    recall  f1-score   support\n",
      "\n",
      "   high risk       0.85      0.87      0.86        61\n",
      "    low risk       0.74      0.78      0.76        69\n",
      "    mid risk       0.71      0.66      0.68        73\n",
      "\n",
      "    accuracy                           0.76       203\n",
      "   macro avg       0.77      0.77      0.77       203\n",
      "weighted avg       0.76      0.76      0.76       203\n",
      "\n"
     ]
    }
   ],
   "source": [
    "# classification report\n",
    "from sklearn.metrics import classification_report\n",
    "\n",
    "decision_tree_report = classification_report(ytest, ypred)\n",
    "print(decision_tree_report)"
   ]
  },
  {
   "cell_type": "markdown",
   "id": "b84bfeec-473f-490e-b930-544a3474a9f3",
   "metadata": {},
   "source": [
    "Method 2: Random Forest"
   ]
  },
  {
   "cell_type": "code",
   "execution_count": 16,
   "id": "ae89c14b-03cb-40d5-b5e2-748f2b1b0c24",
   "metadata": {},
   "outputs": [
    {
     "name": "stdout",
     "output_type": "stream",
     "text": [
      "Best Parameters:  {'criterion': 'gini', 'max_depth': 30, 'max_features': 'sqrt', 'min_samples_leaf': 2, 'min_samples_split': 2, 'n_estimators': 200}\n",
      "Best Accuracy:  0.7990532454745134\n"
     ]
    }
   ],
   "source": [
    "from sklearn.ensemble import RandomForestClassifier\n",
    "\n",
    "# create a random forest classifier\n",
    "forest = RandomForestClassifier(random_state=125)\n",
    "\n",
    "# define the huperparameter grid\n",
    "param_grid = {\n",
    "    'n_estimators': [100, 200, 300],\n",
    "    'criterion': ['gini', 'entropy'], \n",
    "    'max_depth': [10, 20, 30], \n",
    "    'min_samples_split': [2, 5, 10], \n",
    "    'min_samples_leaf': [2, 4], \n",
    "    'max_features': ['sqrt', 'log2']\n",
    "}\n",
    "\n",
    "# create the GridSearchCV object\n",
    "grid_search_forest = GridSearchCV(forest, param_grid, cv=5, scoring='accuracy', n_jobs=-1)\n",
    "\n",
    "# fit the grid search to the data\n",
    "grid_search_forest.fit(Xtrain, ytrain)\n",
    "\n",
    "# print the best parameters and the corresponding accuracy\n",
    "print('Best Parameters: ', grid_search_forest.best_params_)\n",
    "print('Best Accuracy: ', grid_search_forest.best_score_)\n"
   ]
  },
  {
   "cell_type": "code",
   "execution_count": null,
   "id": "0b306bb8-a421-4289-be65-11865e7071b9",
   "metadata": {},
   "outputs": [],
   "source": [
    "# get the model\n",
    "best_forest = grid_search_forest.best_estimator_\n",
    "\n",
    "# evaluate the best model for the test set\n",
    "test_accuracy = best_forest.score(Xtest, ytest)\n",
    "\n",
    "print('Test Accuracy: ', test_accuracy)"
   ]
  },
  {
   "cell_type": "code",
   "execution_count": 18,
   "id": "54f5832a-4005-40eb-a3d2-34cb69e570a0",
   "metadata": {},
   "outputs": [
    {
     "data": {
      "image/png": "[encoded data removed]",
      "text/plain": [
       "<Figure size 640x480 with 2 Axes>"
      ]
     },
     "metadata": {},
     "output_type": "display_data"
    }
   ],
   "source": [
    "# visualization of the confusion matrix using a heatmap\n",
    "from sklearn.metrics import confusion_matrix\n",
    "\n",
    "ypred = best_forest.predict(Xtest)\n",
    "\n",
    "labels = ytest.unique()\n",
    "\n",
    "cm_forest = confusion_matrix(ytest, ypred, normalize='true')\n",
    "plt.figure()\n",
    "sns.heatmap(cm_forest, annot=True, cmap='BuPu', xticklabels=labels, yticklabels=labels)\n",
    "plt.show()"
   ]
  },
  {
   "cell_type": "code",
   "execution_count": 19,
   "id": "66586014-b063-4cfc-8174-ba1184907bf0",
   "metadata": {},
   "outputs": [
    {
     "name": "stdout",
     "output_type": "stream",
     "text": [
      "              precision    recall  f1-score   support\n",
      "\n",
      "   high risk       0.90      0.89      0.89        61\n",
      "    low risk       0.78      0.81      0.79        69\n",
      "    mid risk       0.76      0.74      0.75        73\n",
      "\n",
      "    accuracy                           0.81       203\n",
      "   macro avg       0.81      0.81      0.81       203\n",
      "weighted avg       0.81      0.81      0.81       203\n",
      "\n"
     ]
    }
   ],
   "source": [
    "# classification report\n",
    "from sklearn.metrics import classification_report\n",
    "\n",
    "random_forest_report = classification_report(ytest, ypred)\n",
    "print(random_forest_report)"
   ]
  },
  {
   "cell_type": "markdown",
   "id": "5d3bd5e2-c296-44c7-bfef-0e8969e2cf34",
   "metadata": {},
   "source": [
    "Method 3: Logistic Regression"
   ]
  },
  {
   "cell_type": "code",
   "execution_count": 20,
   "id": "f6c8c77f-67d5-419f-96e6-e26c0e8dcece",
   "metadata": {},
   "outputs": [],
   "source": [
    "# scale the feature matrix of train and test for logistic regression\n",
    "from sklearn.preprocessing import MinMaxScaler\n",
    "\n",
    "# create the MinMaxScaler object\n",
    "scaler = MinMaxScaler()\n",
    "Xtrain_scaled = scaler.fit_transform(Xtrain)\n",
    "Xtest_scaled = scaler.fit_transform(Xtest)"
   ]
  },
  {
   "cell_type": "code",
   "execution_count": 21,
   "id": "8fb5de66-4bd3-48a7-9f09-9dcc24421758",
   "metadata": {},
   "outputs": [
    {
     "name": "stdout",
     "output_type": "stream",
     "text": [
      "Best Parameters:  {'C': 1, 'penalty': 'l2', 'solver': 'saga'}\n",
      "Best Accuracy:  0.6337726274331592\n"
     ]
    }
   ],
   "source": [
    "from sklearn.linear_model import LogisticRegression\n",
    "\n",
    "# create a random forest classifier\n",
    "log_reg = LogisticRegression(random_state=125, max_iter=2000)\n",
    "\n",
    "# define the huperparameter grid\n",
    "par_grid = {\n",
    "    'penalty': ['l1', 'l2'], \n",
    "    'C': [0.001, 0.01, 0.1, 1, 10, 100],\n",
    "    'solver': ['saga']\n",
    "}\n",
    "\n",
    "# create the GridSearchCV object\n",
    "grid_search_log_reg = GridSearchCV(log_reg, par_grid, cv=5, scoring='accuracy', n_jobs=-1)\n",
    "\n",
    "# fit the grid search to the data\n",
    "grid_search_log_reg.fit(Xtrain_scaled, ytrain)\n",
    "\n",
    "# print the best parameters and the corresponding accuracy\n",
    "print('Best Parameters: ', grid_search_log_reg.best_params_)\n",
    "print('Best Accuracy: ', grid_search_log_reg.best_score_)\n"
   ]
  },
  {
   "cell_type": "code",
   "execution_count": 22,
   "id": "ad519283-f04d-4079-9c0e-30a23bca1662",
   "metadata": {},
   "outputs": [
    {
     "name": "stdout",
     "output_type": "stream",
     "text": [
      "Test Accuracy:  0.6748768472906403\n"
     ]
    }
   ],
   "source": [
    "# get the model\n",
    "best_log_reg = grid_search_log_reg.best_estimator_\n",
    "\n",
    "# evaluate the best model for the test set\n",
    "test_accuracy = best_log_reg.score(Xtest_scaled, ytest)\n",
    "\n",
    "print('Test Accuracy: ', test_accuracy)"
   ]
  },
  {
   "cell_type": "code",
   "execution_count": 23,
   "id": "ff2a0885-ed8f-41ef-9ff0-09ee78dcf7a9",
   "metadata": {},
   "outputs": [
    {
     "data": {
      "image/png": "[encoded data removed]",
      "text/plain": [
       "<Figure size 640x480 with 2 Axes>"
      ]
     },
     "metadata": {},
     "output_type": "display_data"
    }
   ],
   "source": [
    "# visualization of the confusion matrix using a heatmap\n",
    "from sklearn.metrics import confusion_matrix\n",
    "\n",
    "ypred = best_log_reg.predict(Xtest_scaled)\n",
    "\n",
    "labels = ytest.unique()\n",
    "\n",
    "cm_log_reg = confusion_matrix(ytest, ypred, normalize='true')\n",
    "plt.figure()\n",
    "sns.heatmap(cm_log_reg, annot=True, cmap='BuPu', xticklabels=labels, yticklabels=labels)\n",
    "plt.show()"
   ]
  },
  {
   "cell_type": "code",
   "execution_count": 24,
   "id": "02b65dbb-33b4-4ee1-8759-89e5edd9ce63",
   "metadata": {},
   "outputs": [
    {
     "name": "stdout",
     "output_type": "stream",
     "text": [
      "              precision    recall  f1-score   support\n",
      "\n",
      "   high risk       0.86      0.70      0.77        61\n",
      "    low risk       0.61      0.99      0.76        69\n",
      "    mid risk       0.62      0.36      0.45        73\n",
      "\n",
      "    accuracy                           0.67       203\n",
      "   macro avg       0.70      0.68      0.66       203\n",
      "weighted avg       0.69      0.67      0.65       203\n",
      "\n"
     ]
    }
   ],
   "source": [
    "# classification report\n",
    "from sklearn.metrics import classification_report\n",
    "\n",
    "log_reg_report = classification_report(ytest, ypred)\n",
    "print(log_reg_report)"
   ]
  },
  {
   "cell_type": "code",
   "execution_count": 25,
   "id": "d9a497ee-dded-4e74-a9dc-98adca5f8ba7",
   "metadata": {},
   "outputs": [
    {
     "data": {
      "image/png": "[encoded data removed]",
      "text/plain": [
       "<Figure size 1200x500 with 1 Axes>"
      ]
     },
     "metadata": {},
     "output_type": "display_data"
    }
   ],
   "source": [
    "# feature importance of Random Forest\n",
    "feature_importance = best_forest.feature_importances_\n",
    "\n",
    "feature_score = pd.Series(feature_importance, index=Xtrain.columns)\n",
    "score = feature_score.sort_values()\n",
    "\n",
    "plt.figure(figsize=(12, 5))\n",
    "plt.barh(y=score.index, width=score.values, color='violet')\n",
    "plt.grid(alpha=0.4)\n",
    "plt.title('Feature importance of Random Forest')\n",
    "plt.show()"
   ]
  },
  {
   "cell_type": "markdown",
   "id": "67dd6090-a256-493e-942e-b17382a3fa5a",
   "metadata": {},
   "source": [
    "Summary:\n",
    "1. Random Forest model demonstrates an outstanding performance, achieving the highest accuracy, precission and recal scores among the trained models.\n",
    "2. The Random Forest model's exceptional ability is underscored by the confusion matrix, accuracy identifying all the three risk levels.\n",
    "3. Feature importance analysis, presented in a plot, highlits blood glucose and systolic blood pressure as the top influential features, collectively contributing approximately 0.5 to the overall feature importance score."
   ]
  }
 ],
 "metadata": {
  "kernelspec": {
   "display_name": "Python 3 (ipykernel)",
   "language": "python",
   "name": "python3"
  },
  "language_info": {
   "codemirror_mode": {
    "name": "ipython",
    "version": 3
   },
   "file_extension": ".py",
   "mimetype": "text/x-python",
   "name": "python",
   "nbconvert_exporter": "python",
   "pygments_lexer": "ipython3",
   "version": "3.12.1"
  }
 },
 "nbformat": 4,
 "nbformat_minor": 5
}
