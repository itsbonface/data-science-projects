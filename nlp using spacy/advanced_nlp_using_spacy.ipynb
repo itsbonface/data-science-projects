{
 "cells": [
  {
   "cell_type": "code",
   "execution_count": 23,
   "id": "47fe6556-5e07-48fa-8104-0180958d80f1",
   "metadata": {},
   "outputs": [],
   "source": [
    "import spacy\n",
    "from spacy.lang.en import English\n",
    "from spacy.matcher import Matcher"
   ]
  },
  {
   "cell_type": "code",
   "execution_count": 9,
   "id": "c7bc55b3-2286-4fe4-84a4-9def370ed57d",
   "metadata": {},
   "outputs": [],
   "source": [
    "#creating the npl object\n",
    "nlp = English()"
   ]
  },
  {
   "cell_type": "code",
   "execution_count": 10,
   "id": "3921b9a3-a280-4fc3-af8b-206e9a6232d0",
   "metadata": {},
   "outputs": [
    {
     "name": "stdout",
     "output_type": "stream",
     "text": [
      "Hello\n",
      "World\n",
      "!\n"
     ]
    }
   ],
   "source": [
    "doc = nlp(\"Hello World!\")\n",
    "\n",
    "for token in doc:\n",
    "    print(token.text)"
   ]
  },
  {
   "cell_type": "code",
   "execution_count": 11,
   "id": "a93a0fbf-7b4f-4679-b55e-73d92757f0ce",
   "metadata": {},
   "outputs": [
    {
     "name": "stdout",
     "output_type": "stream",
     "text": [
      "World\n"
     ]
    }
   ],
   "source": [
    "print(doc[1].text)"
   ]
  },
  {
   "cell_type": "code",
   "execution_count": 12,
   "id": "f0ae8279-9ef3-4979-8e0d-cd17b16bf5c3",
   "metadata": {},
   "outputs": [
    {
     "name": "stdout",
     "output_type": "stream",
     "text": [
      "Hello World\n"
     ]
    }
   ],
   "source": [
    "print(doc[:2].text)"
   ]
  },
  {
   "cell_type": "code",
   "execution_count": 13,
   "id": "43b5a074-f23c-4371-b46f-509d139e96a8",
   "metadata": {},
   "outputs": [],
   "source": [
    "doc =nlp(\"It costs $5.\")"
   ]
  },
  {
   "cell_type": "code",
   "execution_count": 16,
   "id": "ca7b6b9b-6995-4108-8887-b3525c77bec8",
   "metadata": {},
   "outputs": [
    {
     "name": "stdout",
     "output_type": "stream",
     "text": [
      "Index    : [0, 1, 2, 3, 4]\n",
      "Text     : ['It', 'costs', '$', '5', '.']\n",
      "is_alpha : [True, True, False, False, False]\n",
      "is_punct : [False, False, False, False, True]\n",
      "like_num : [False, False, False, True, False]\n"
     ]
    }
   ],
   "source": [
    "#Lexical attributes\n",
    "print(\"Index    :\", [token.i for token in doc])\n",
    "print(\"Text     :\", [token.text for token in doc])\n",
    "print(\"is_alpha :\", [token.is_alpha for token in doc])\n",
    "print(\"is_punct :\", [token.is_punct for token in doc])\n",
    "print(\"like_num :\", [token.like_num for token in doc])"
   ]
  },
  {
   "cell_type": "code",
   "execution_count": 18,
   "id": "dfb9e56c-85f6-4ffd-88ca-765e75d1f088",
   "metadata": {},
   "outputs": [],
   "source": [
    "nlp = spacy.load(\"en_core_web_sm\")"
   ]
  },
  {
   "cell_type": "code",
   "execution_count": 20,
   "id": "c16de47f-7822-44bf-b37d-6d2529d7ece5",
   "metadata": {},
   "outputs": [
    {
     "name": "stdout",
     "output_type": "stream",
     "text": [
      "He PRON nsubj ate\n",
      "ate VERB ROOT ate\n",
      "the DET det pizza\n",
      "pizza NOUN dobj ate\n"
     ]
    }
   ],
   "source": [
    "doc = nlp(\"He ate the pizza\")\n",
    "\n",
    "for token in doc:\n",
    "    print(token.text, token.pos_, token.dep_, token.head.text)"
   ]
  },
  {
   "cell_type": "code",
   "execution_count": 21,
   "id": "8b97eec5-cf83-4117-b881-e343b05c251c",
   "metadata": {},
   "outputs": [
    {
     "name": "stdout",
     "output_type": "stream",
     "text": [
      "Apple ORG\n",
      "U.K ORG\n",
      "$1 billion MONEY\n"
     ]
    }
   ],
   "source": [
    "doc = nlp(\"Apple is looking at buying U.K startup for $1 billion\")\n",
    "\n",
    "for entity in doc.ents:\n",
    "    print(entity.text, entity.label_)"
   ]
  },
  {
   "cell_type": "code",
   "execution_count": 22,
   "id": "a713ac7d-0efa-49fd-9686-031117ec4e5b",
   "metadata": {},
   "outputs": [
    {
     "data": {
      "text/plain": [
       "'Countries, cities, states'"
      ]
     },
     "execution_count": 22,
     "metadata": {},
     "output_type": "execute_result"
    }
   ],
   "source": [
    "spacy.explain(\"GPE\")"
   ]
  },
  {
   "cell_type": "code",
   "execution_count": 28,
   "id": "dfbe398a-0824-4b42-9fc2-1e49e6b52c67",
   "metadata": {},
   "outputs": [
    {
     "name": "stdout",
     "output_type": "stream",
     "text": [
      "iPhone X\n"
     ]
    }
   ],
   "source": [
    "matcher = Matcher(nlp.vocab)\n",
    "pattern = [{'TEXT' : 'iPhone'}, {'TEXT' : 'X'}]\n",
    "matcher.add('IPHONE_PATTERN', [pattern])\n",
    "\n",
    "doc = nlp(\"Upcoming iPhone X release date is leaked.\")\n",
    "\n",
    "matches = matcher(doc)\n",
    "\n",
    "for match_id, start, end in matches:\n",
    "    matched_span = doc[start:end]\n",
    "    print(matched_span.text)"
   ]
  },
  {
   "cell_type": "code",
   "execution_count": null,
   "id": "f745b7e4-3079-4299-893b-2b71adc9e24d",
   "metadata": {},
   "outputs": [],
   "source": []
  }
 ],
 "metadata": {
  "kernelspec": {
   "display_name": "Python 3 (ipykernel)",
   "language": "python",
   "name": "python3"
  },
  "language_info": {
   "codemirror_mode": {
    "name": "ipython",
    "version": 3
   },
   "file_extension": ".py",
   "mimetype": "text/x-python",
   "name": "python",
   "nbconvert_exporter": "python",
   "pygments_lexer": "ipython3",
   "version": "3.12.1"
  }
 },
 "nbformat": 4,
 "nbformat_minor": 5
}
